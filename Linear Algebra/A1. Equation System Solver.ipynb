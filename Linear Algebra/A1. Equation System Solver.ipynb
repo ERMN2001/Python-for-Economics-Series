{
 "cells": [
  {
   "cell_type": "markdown",
   "id": "f32585cb",
   "metadata": {},
   "source": [
    "# <font face=\"gotham\" color=\"navy\"><center> Erfān Rezaei Mayahi-Nejad - 440298082"
   ]
  },
  {
   "cell_type": "code",
   "execution_count": 1,
   "id": "026db3fc",
   "metadata": {},
   "outputs": [],
   "source": [
    "def LinSol(coef, cons):\n",
    "    # Gauss-Jordan Elimination Algorithm for Solving Linear System\n",
    "    num_eq = len(coef)\n",
    "    num_var = len(coef[0])\n",
    "\n",
    "    # Are the Number of Equations and Number of Variables Equal?\n",
    "    if num_eq != num_var:\n",
    "        return \"The linear system has INFINITE solutions!\"\n",
    "\n",
    "    # Augmented Matrix Creation\n",
    "    aug_mat = []\n",
    "    for i in range(num_eq):\n",
    "        aug_mat.append(coef[i] + [cons[i]])\n",
    "\n",
    "    # Elimination Process\n",
    "    for i in range(num_eq):\n",
    "        # Check if the diagonal element is zero\n",
    "        if aug_mat[i][i] == 0:\n",
    "            # Check for dependent equations\n",
    "            dependent = True\n",
    "            for j in range(num_var + 1):\n",
    "                if aug_mat[i][j] != 0:\n",
    "                    dependent = False\n",
    "                    break\n",
    "            if dependent:\n",
    "                return \"The linear system has INFINITE solutions!\"\n",
    "\n",
    "            # Check for no solution situation\n",
    "            no_solution = True\n",
    "            for k in range(i+1, num_eq):\n",
    "                dependent = True\n",
    "                for j in range(num_var):\n",
    "                    if aug_mat[i][j] != aug_mat[k][j]:\n",
    "                        dependent = False\n",
    "                        break\n",
    "                if dependent:\n",
    "                    no_solution = False\n",
    "                    break\n",
    "            if no_solution:\n",
    "                return \"The linear system has NO solution!\"\n",
    "\n",
    "            continue\n",
    "\n",
    "        # Scaling the current row\n",
    "        scale = aug_mat[i][i]\n",
    "        for j in range(num_var + 1):\n",
    "            aug_mat[i][j] /= scale\n",
    "\n",
    "        # Row operations on other rows\n",
    "        for k in range(num_eq):\n",
    "            if k != i:\n",
    "                factor = aug_mat[k][i]\n",
    "                for j in range(num_var + 1):\n",
    "                    aug_mat[k][j] -= factor * aug_mat[i][j]\n",
    "\n",
    "    # System's Unique Roots\n",
    "    sol = []\n",
    "    for i in range(num_eq):\n",
    "        sol.append(aug_mat[i][num_var])\n",
    "\n",
    "    return f\"The linear system has: {sol} as solution!\""
   ]
  },
  {
   "cell_type": "markdown",
   "id": "f764d766",
   "metadata": {},
   "source": [
    "$$\n",
    "\\begin{bmatrix}\n",
    "2 & -3 & 5 & 1 \\\\\n",
    "7 & 2 & -1 & 0 \\\\\n",
    "-1 & 2 & -7 & -2 \\\\\n",
    "3 & 7 & -6 & 1\n",
    "\\end{bmatrix} \n",
    "\\begin{bmatrix}\n",
    "a \\\\\n",
    "b \\\\\n",
    "c \\\\\n",
    "d\n",
    "\\end{bmatrix} =\n",
    "\\begin{bmatrix}\n",
    "41 \\\\\n",
    "-28 \\\\\n",
    "46 \\\\\n",
    "31\n",
    "\\end{bmatrix} \n",
    "\\qquad \\qquad \\qquad \\qquad \\qquad(\\text{Eq}_1)\n",
    "$$"
   ]
  },
  {
   "cell_type": "code",
   "execution_count": 2,
   "id": "78790168",
   "metadata": {},
   "outputs": [
    {
     "data": {
      "text/plain": [
       "'The linear system has: [8.264705882352958, -77.17647058823528, -68.49999999999997, 135.44117647058818] as solution!'"
      ]
     },
     "execution_count": 2,
     "metadata": {},
     "output_type": "execute_result"
    }
   ],
   "source": [
    "LinSol([[2,-3,5,1],[7,2,-1,0],[-1,2,-7,-2],[3,7,-6,1]],[41,-28,46,31])"
   ]
  },
  {
   "cell_type": "markdown",
   "id": "bbead20a",
   "metadata": {},
   "source": [
    "$$\n",
    "\\begin{bmatrix}\n",
    "0 & 3 & -6 & 6 & 4\\\\\n",
    "3 & -7 & 8 & -5 & 8\\\\\n",
    "3 & -9 & -12 & -9 & 6\n",
    "\\end{bmatrix} \n",
    "\\begin{bmatrix}\n",
    "a \\\\\n",
    "b \\\\\n",
    "c\n",
    "\\end{bmatrix} =\n",
    "\\begin{bmatrix}\n",
    "-5 \\\\\n",
    "9 \\\\\n",
    "15\n",
    "\\end{bmatrix} \n",
    "\\qquad \\qquad \\qquad \\qquad \\quad(\\text{Eq}_2)\n",
    "$$"
   ]
  },
  {
   "cell_type": "code",
   "execution_count": 3,
   "id": "e8662009",
   "metadata": {},
   "outputs": [
    {
     "data": {
      "text/plain": [
       "'The linear system has INFINITE solutions!'"
      ]
     },
     "execution_count": 3,
     "metadata": {},
     "output_type": "execute_result"
    }
   ],
   "source": [
    "LinSol([[0,3,-6,6,4],[3,-7,8,-5,8],[3,-9,-12,-9,6]],[-5,9,15])"
   ]
  },
  {
   "cell_type": "markdown",
   "id": "f1fcd1e0",
   "metadata": {},
   "source": [
    "$$\n",
    "\\begin{bmatrix}\n",
    "\\frac{1}{3} & 2 & -6 \\\\\n",
    "-4 & 0 & 5 \\\\\n",
    "-3 & 6 & -13 \\\\\n",
    "-\\frac{7}{3} & 2 & -\\frac{8}{3}\n",
    "\\end{bmatrix} \n",
    "\\begin{bmatrix}\n",
    "a \\\\\n",
    "b \\\\\n",
    "c\n",
    "\\end{bmatrix} =\n",
    "\\begin{bmatrix}\n",
    "0 \\\\\n",
    "0 \\\\\n",
    "0 \\\\\n",
    "0\n",
    "\\end{bmatrix} \n",
    "\\qquad \\qquad \\qquad \\qquad \\qquad \\qquad \\quad(\\text{Eq}_3)\n",
    "$$"
   ]
  },
  {
   "cell_type": "code",
   "execution_count": 4,
   "id": "599c4b3e",
   "metadata": {},
   "outputs": [
    {
     "data": {
      "text/plain": [
       "'The linear system has INFINITE solutions!'"
      ]
     },
     "execution_count": 4,
     "metadata": {},
     "output_type": "execute_result"
    }
   ],
   "source": [
    "LinSol([[1/3,2,-6],[-4,0,5],[-3,6,-13],[-7/3,2,-8/3]],[0,0,0,0])"
   ]
  },
  {
   "cell_type": "markdown",
   "id": "1c808248",
   "metadata": {},
   "source": [
    "$$\n",
    "\\begin{bmatrix}\n",
    "3 & -1 & 0 \\\\\n",
    "-1 & 2 & -1 \\\\\n",
    "0 & -1 & 3 \\\\\n",
    "\\end{bmatrix} \n",
    "\\begin{bmatrix}\n",
    "a \\\\\n",
    "b \\\\\n",
    "c\n",
    "\\end{bmatrix} =\n",
    "\\begin{bmatrix}\n",
    "3 \\\\\n",
    "0 \\\\\n",
    "9\n",
    "\\end{bmatrix} \n",
    "\\qquad \\qquad \\qquad \\qquad \\qquad \\qquad \\quad(\\text{Eq}_4)\n",
    "$$"
   ]
  },
  {
   "cell_type": "code",
   "execution_count": 5,
   "id": "6243fb93",
   "metadata": {},
   "outputs": [
    {
     "data": {
      "text/plain": [
       "'The linear system has: [2.0, 3.0, 4.0] as solution!'"
      ]
     },
     "execution_count": 5,
     "metadata": {},
     "output_type": "execute_result"
    }
   ],
   "source": [
    "LinSol([[3,-1,0],[-1,2,-1],[0,-1,3]],[3,0,9])"
   ]
  },
  {
   "cell_type": "markdown",
   "id": "a73ff862",
   "metadata": {},
   "source": [
    "$$\n",
    "\\begin{bmatrix}\n",
    "\\color{red}3 &\\color{red}{-1} &\\color{red} 0 \\\\\n",
    "-1 & 2 & -1 \\\\\n",
    "\\color{red} 9 &\\color{red}{-3} &\\color{red} 0 \\\\\n",
    "\\end{bmatrix} \n",
    "\\begin{bmatrix}\n",
    "a \\\\\n",
    "b \\\\\n",
    "c\n",
    "\\end{bmatrix} =\n",
    "\\begin{bmatrix}\n",
    "\\color{red} 3 \\\\\n",
    "0 \\\\\n",
    "\\color{lime} 8\n",
    "\\end{bmatrix} \n",
    "\\qquad \\qquad \\qquad \\qquad \\qquad \\qquad \\quad(\\text{Eq}_5)\n",
    "$$"
   ]
  },
  {
   "cell_type": "code",
   "execution_count": 6,
   "id": "40bd9190",
   "metadata": {},
   "outputs": [
    {
     "data": {
      "text/plain": [
       "'The linear system has NO solution!'"
      ]
     },
     "execution_count": 6,
     "metadata": {},
     "output_type": "execute_result"
    }
   ],
   "source": [
    "LinSol([[3,-1,0],[-1,2,-1],[9,-3,0]],[3,0,8])"
   ]
  },
  {
   "cell_type": "markdown",
   "id": "70f71cbb",
   "metadata": {},
   "source": [
    "$$\n",
    "\\begin{bmatrix}\n",
    "\\color{red}3 &\\color{red}{-1} &\\color{red} 0 \\\\\n",
    "-1 & 2 & -1 \\\\\n",
    "\\color{red} 9 &\\color{red}{-3} &\\color{red} 0 \\\\\n",
    "\\end{bmatrix} \n",
    "\\begin{bmatrix}\n",
    "a \\\\\n",
    "b \\\\\n",
    "c\n",
    "\\end{bmatrix} =\n",
    "\\begin{bmatrix}\n",
    "\\color{red} 3 \\\\\n",
    "0 \\\\\n",
    "\\color{lime} 9\n",
    "\\end{bmatrix} \n",
    "\\qquad \\qquad \\qquad \\qquad \\qquad \\qquad \\quad(\\text{Eq}_6)\n",
    "$$"
   ]
  },
  {
   "cell_type": "code",
   "execution_count": 7,
   "id": "b246d519",
   "metadata": {},
   "outputs": [
    {
     "data": {
      "text/plain": [
       "'The linear system has INFINITE solutions!'"
      ]
     },
     "execution_count": 7,
     "metadata": {},
     "output_type": "execute_result"
    }
   ],
   "source": [
    "LinSol([[3,-1,0],[-1,2,-1],[9,-3,0]],[3,0,9])"
   ]
  }
 ],
 "metadata": {
  "kernelspec": {
   "display_name": "Python 3 (ipykernel)",
   "language": "python",
   "name": "python3"
  },
  "language_info": {
   "codemirror_mode": {
    "name": "ipython",
    "version": 3
   },
   "file_extension": ".py",
   "mimetype": "text/x-python",
   "name": "python",
   "nbconvert_exporter": "python",
   "pygments_lexer": "ipython3",
   "version": "3.9.7"
  }
 },
 "nbformat": 4,
 "nbformat_minor": 5
}
